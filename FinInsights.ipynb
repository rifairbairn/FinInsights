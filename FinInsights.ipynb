{
 "cells": [
  {
   "cell_type": "markdown",
   "id": "a311dea7-c397-4595-8c8c-4b0cb080967b",
   "metadata": {},
   "source": [
    "# FinInsights: LLM-Powered Financial Assistant (Demo)\n",
    "\n",
    "This notebook demonstrates a simple LLM-powered assistant that can answer natural language queries about financial data such as portfolio allocations, sector performance, or company fundamentals.\n",
    "\n",
    "We use the OpenAI API to power a conversational assistant that can:\n",
    "- Interpret structured data (CSV-based financial or portfolio data)\n",
    "- Generate textual summaries\n",
    "- Provide sector insights from plain English queries\n",
    "\n",
    "This is a simple prototype version designed for demonstration in a single notebook."
   ]
  },
  {
   "cell_type": "markdown",
   "id": "4d0d9fb7-5d7b-4459-aefc-693ee01bdec8",
   "metadata": {},
   "source": [
    "### Setup & Data Load"
   ]
  },
  {
   "cell_type": "code",
   "execution_count": 74,
   "id": "91f299ab-8dd4-4547-8dbd-d722428cc56f",
   "metadata": {},
   "outputs": [
    {
     "name": "stdout",
     "output_type": "stream",
     "text": [
      "    Symbol                                          Name  Allocation  \\\n",
      "0  6889106  Taiwan Semiconductor Manufacturing Co., Ltd.    0.269198   \n",
      "1  BMMV2K8                          Tencent Holdings Ltd    0.120909   \n",
      "2  BK6YZP5                 Alibaba Group Holding Limited    0.071246   \n",
      "3  6771720                 Samsung Electronics Co., Ltd.    0.068551   \n",
      "4  BK1N461                             HDFC Bank Limited    0.042680   \n",
      "\n",
      "   Adjusted_Market_Value  Dividend_Yield  Price_to_Earnings  Debt_to_Equity  \\\n",
      "0                 957463            1.30              26.87           24.49   \n",
      "1                 451376            0.82              21.09           36.78   \n",
      "2                 253403            1.18              16.97           24.57   \n",
      "3                 243820            2.71              11.27            4.94   \n",
      "4                 130462            1.10              19.48          129.46   \n",
      "\n",
      "  Country                  Sector                                   Industry  \\\n",
      "0  Taiwan  Information Technology   Semiconductors & Semiconductor Equipment   \n",
      "1   China  Communication Services               Interactive Media & Services   \n",
      "2   China  Consumer Discretionary                           Broadline Retail   \n",
      "3   Korea  Information Technology  Technology Hardware Storage & Peripherals   \n",
      "4   India              Financials                                      Banks   \n",
      "\n",
      "   YTD_Performance                               Business_Description  \n",
      "0         0.153872  Taiwan Semiconductor Manufacturing Co., Ltd. e...  \n",
      "1         0.359747  Tencent Holdings Ltd. provides value-added ser...  \n",
      "2         0.425033  Alibaba Group Holding Ltd. engages in providin...  \n",
      "3         0.384884  Samsung Electronics Co., Ltd. engages in the m...  \n",
      "4         0.106574  HDFC Bank Ltd. engages in the provision of ban...  \n",
      "(30, 12)\n"
     ]
    }
   ],
   "source": [
    "import os\n",
    "from openai import OpenAI\n",
    "from dotenv import load_dotenv\n",
    "import requests\n",
    "import httpx\n",
    "\n",
    "# Load API key and proxy from .env\n",
    "load_dotenv()\n",
    "api_key = os.getenv(\"OPENAI_API_KEY\")\n",
    "http_proxy = os.getenv(\"HTTP_PROXY\")\n",
    "https_proxy = os.getenv(\"HTTPS_PROXY\")\n",
    "\n",
    "proxies = {\n",
    "    \"http\": http_proxy,\n",
    "    \"https\": https_proxy\n",
    "}\n",
    "\n",
    "# Load sample portfolio data\n",
    "df = pd.read_csv(\"sample_portfolio_30.csv\", encoding=\"utf-8\", encoding_errors=\"ignore\")\n",
    "print(df.head())\n",
    "print(df.shape)"
   ]
  },
  {
   "cell_type": "markdown",
   "id": "dd18f869-abff-485c-8511-36932961f0b5",
   "metadata": {},
   "source": [
    "### Create Smaller Custom Dataframes"
   ]
  },
  {
   "cell_type": "code",
   "execution_count": 75,
   "id": "ab53bfee-cfae-48d2-9248-a38b92c224f4",
   "metadata": {},
   "outputs": [],
   "source": [
    "# Truncate Business_Description to 40 words\n",
    "df[\"Short_Description\"] = df[\"Business_Description\"].apply(lambda x: \" \".join(str(x).split()[:40]) + \"...\")\n",
    "\n",
    "df_allocations = df[[\"Name\", \"Allocation\", \"Sector\"]]\n",
    "df_perf = df[[\"Name\", \"Allocation\", \"Country\", \"Sector\", \"YTD_Performance\"]]\n",
    "df_perf_fundamentals = df[[\"Name\", \"Allocation\", \"Country\", \"Sector\", \"YTD_Performance\", \"Adjusted_Market_Value\", \"Dividend_Yield\", \"Price_to_Earnings\", \"Debt_to_Equity\"]]\n",
    "df_business_desc = df[[\"Name\", \"Country\", \"Sector\", \"Short_Description\"]]"
   ]
  },
  {
   "cell_type": "markdown",
   "id": "1003854e-c15a-42d7-9e0e-4c6d2fe3cff0",
   "metadata": {},
   "source": [
    "### LLM Prompt Function"
   ]
  },
  {
   "cell_type": "code",
   "execution_count": 77,
   "id": "27e2f496-a445-4cd1-bf48-0e9341811a43",
   "metadata": {},
   "outputs": [],
   "source": [
    "def ask_fininsights(data: pd.DataFrame, question: str, role, model=\"gpt-4\"):\n",
    "    \"\"\"Send natural language question and tabular data to OpenAI via Chat API\"\"\"\n",
    "\n",
    "    # Convert the entire DataFrame to markdown (table format) for inclusion in the prompt\n",
    "    # Consider limiting rows (e.g., with data.head(10)) to avoid token limits\n",
    "    data_sample = data.to_markdown(index=False)\n",
    "\n",
    "    # Build the prompt to send to the model, including dataset and natural language question\n",
    "    prompt = f\"\"\"\n",
    "You are a financial analyst assistant. Given the following dataset:\n",
    "\n",
    "{data_sample}\n",
    "\n",
    "Answer this question clearly and concisely:\n",
    "{question}\n",
    "\"\"\"\n",
    "\n",
    "    # Set headers for OpenAI API request, including authorization\n",
    "    headers = {\n",
    "        \"Authorization\": f\"Bearer {api_key}\",\n",
    "        \"Content-Type\": \"application/json\"\n",
    "    }\n",
    "\n",
    "    # Construct the payload to send to OpenAI\n",
    "    payload = {\n",
    "        \"model\": model,\n",
    "        \"messages\": [\n",
    "            {\"role\": \"system\", \"content\": role},\n",
    "            {\"role\": \"user\", \"content\": prompt}\n",
    "        ],\n",
    "        \"temperature\": 0.4,   # Lower temperature for more deterministic output\n",
    "        \"max_tokens\": 500     # Limit output length to avoid excess token usage\n",
    "    }\n",
    "\n",
    "    try:\n",
    "        # Make the POST request to OpenAI API with optional proxy and timeout\n",
    "        response = requests.post(\n",
    "            \"https://api.openai.com/v1/chat/completions\",\n",
    "            headers=headers,\n",
    "            json=payload,\n",
    "            proxies=proxies,\n",
    "            timeout=60\n",
    "        )\n",
    "\n",
    "        # If successful, return the LLM’s generated message content\n",
    "        if response.status_code == 200:\n",
    "            return response.json()[\"choices\"][0][\"message\"][\"content\"]\n",
    "        else:\n",
    "            # Print the error message if API returns non-200 status\n",
    "            print(f\"OpenAI API Error: {response.status_code} - {response.text}\")\n",
    "            return None\n",
    "\n",
    "    except requests.exceptions.RequestException as e:\n",
    "        # Handle timeout, connection, or other request-related errors\n",
    "        print(f\"Request error: {e}\")\n",
    "        return None"
   ]
  },
  {
   "cell_type": "markdown",
   "id": "76eda06a-745b-4e2d-8fea-991cc8fbd511",
   "metadata": {},
   "source": [
    "### Simple Zero Shot Prompts"
   ]
  },
  {
   "cell_type": "code",
   "execution_count": 78,
   "id": "9f759fb6-0a8d-46de-a984-6119c0aa40a8",
   "metadata": {},
   "outputs": [],
   "source": [
    "example_question_1 = \"Which sectors have the highest allocations in the portfolio? Provide allocations.\"\n",
    "example_question_2 = \"What are top 3 performing companies (with their YTD Performance)?\"\n",
    "example_question_3 = \"What are the 3 most similar companies to Alibaba based on business description?\"\n",
    "\n",
    "role = \"You are a portfolio analyst specialising in emerging markets equities.\""
   ]
  },
  {
   "cell_type": "markdown",
   "id": "a43999d1-c234-4722-b8fa-e39cb9961f89",
   "metadata": {},
   "source": [
    "### Example 1: Sector Allocations\n",
    "**Prompt:** \"Which sectors have the highest allocations in the portfolio? Provide allocations.\"  "
   ]
  },
  {
   "cell_type": "code",
   "execution_count": 79,
   "id": "8a751810-453b-445c-a50f-9bd7af5bd15c",
   "metadata": {},
   "outputs": [
    {
     "name": "stdout",
     "output_type": "stream",
     "text": [
      "\n",
      "\n",
      "Example 1:\n",
      "The sectors with the highest allocations in the portfolio are:\n",
      "\n",
      "1. Information Technology: The total allocation is 0.269198 (Taiwan Semiconductor Manufacturing Co., Ltd.) + 0.0685511 (Samsung Electronics Co., Ltd.) + 0.0325908 (Xiaomi Corporation Class B) + 0.0302744 (SK hynix Inc.) + 0.0209634 (Hon Hai Precision Industry Co., Ltd.) + 0.0196372 (MediaTek Inc) + 0.0160924 (Infosys Limited) + 0.010404 (Delta Electronics, Inc.) = 0.4677111\n",
      "\n",
      "2. Financials: The total allocation is 0.0426797 (HDFC Bank Limited) + 0.0277273 (China Construction Bank Corporation Class H) + 0.0250624 (ICICI Bank Limited) + 0.0140366 (Industrial and Commercial Bank of China Limited Class H) + 0.0139188 (Al Rajhi Bank) + 0.0129511 (Ping An Insurance (Group) Company of China, Ltd. Class H) + 0.0115572 (Bank of China Limited Class H) + 0.0110032 (Nu Holdings Ltd. Class A) = 0.1589363\n",
      "\n",
      "3. Consumer Discretionary: The total allocation is 0.0712461 (Alibaba Group Holding Limited) + 0.0221492 (PDD Holdings Inc. Sponsored ADR Class A) + 0.0216779 (Meituan Class B) + 0.0152249 (BYD Company Limited Class H) + 0.0144327 (Naspers Limited Class N) + 0.0109355 (Trip.com Group Ltd.) + 0.0107349 (JD.com, Inc. Class A) + 0.00958923 (Mahindra & Mahindra Ltd.) = 0.1769905\n",
      "\n",
      "So, the Information Technology sector has the highest allocation in the portfolio, followed by the Financials and Consumer Discretionary sectors.\n"
     ]
    }
   ],
   "source": [
    "print(\"\\n\\nExample 1:\")\n",
    "print(ask_fininsights(df_allocations, example_question_1, role))"
   ]
  },
  {
   "cell_type": "markdown",
   "id": "e28a43ac-d85c-489b-9595-4224475e773e",
   "metadata": {},
   "source": [
    "### Example 2: Top Performing Companies  \n",
    "**Prompt:** \"What are top 3 performing companies (with their YTD Performance)?\""
   ]
  },
  {
   "cell_type": "code",
   "execution_count": 80,
   "id": "28e13510-d0db-4137-ac85-c57d4cd9e0f7",
   "metadata": {},
   "outputs": [
    {
     "name": "stdout",
     "output_type": "stream",
     "text": [
      "\n",
      "\n",
      "Example 2:\n",
      "The top 3 performing companies based on their Year-to-Date (YTD) performance are:\n",
      "\n",
      "1. Delta Electronics, Inc. with a YTD performance of 59.5656%\n",
      "2. SK hynix Inc. with a YTD performance of 58.7134%\n",
      "3. Xiaomi Corporation Class B with a YTD performance of 54.8867%\n"
     ]
    }
   ],
   "source": [
    "print(\"\\n\\nExample 2:\")\n",
    "print(ask_fininsights(df_perf, example_question_2, role))"
   ]
  },
  {
   "cell_type": "markdown",
   "id": "0197554e-6549-400e-a101-20735b7d496f",
   "metadata": {},
   "source": [
    "### Example 3: Similar Businesses\n",
    "**Prompt:** \"What are the 3 most similar companies to Alibaba based on business description?\""
   ]
  },
  {
   "cell_type": "code",
   "execution_count": 81,
   "id": "db15ef2f-5f7c-4408-bd20-b43bc141b0a3",
   "metadata": {},
   "outputs": [
    {
     "name": "stdout",
     "output_type": "stream",
     "text": [
      "\n",
      "\n",
      "Example 3:\n",
      "Based on the business descriptions provided, the three most similar companies to Alibaba Group Holding Limited would be:\n",
      "\n",
      "1. Tencent Holdings Ltd: Similar to Alibaba, Tencent provides a variety of online and mobile services, including value-added services, online advertising services, and fintech and business services. Both companies have a broad range of operations in the technology sector.\n",
      "\n",
      "2. Meituan Class B: Meituan, like Alibaba, operates a technology platform that connects consumers and merchants, providing a variety of services. Both companies are involved in the consumer discretionary sector and have a strong focus on leveraging technology to enhance commerce.\n",
      "\n",
      "3. JD.com, Inc. Class A: JD.com is an e-commerce company that sells a wide range of products, similar to Alibaba. Both companies operate in the consumer discretionary sector and have a significant online retail presence.\n"
     ]
    }
   ],
   "source": [
    "print(\"\\n\\nExample 3:\")\n",
    "print(ask_fininsights(df_business_desc, example_question_3, role)) "
   ]
  },
  {
   "cell_type": "markdown",
   "id": "be2bf0cc-8ade-4aa2-b01c-bd7489ebbda8",
   "metadata": {},
   "source": [
    "# Prompt Engineering Examples\n",
    "\n",
    "### Zero-shot\n",
    "See above examples\n",
    "\n",
    "### Role prompting:\n",
    "See above examples with role = \"You are a portfolio analyst specialising in emerging markets equities.\"\n",
    "Improves tone, technical accuracy, and domain assumptions.\n",
    "\n",
    "### Few-shot prompting:\n",
    "Q: Which companies have the highest market value?  \n",
    "A: \n",
    "1. TSMC - 957,463,     \n",
    "2. Tencent – 451,376,  \n",
    "4. Alibaba – 253,403,  \n",
    "\n",
    "Q: Which companies have the lowest P/E ratios?  \n",
    "A: \n",
    "1. Samsung Electronics – 11.27,\n",
    "2. Delta Electronics – 13.45,  \n",
    "3. Bank of China – 13.90,  \n",
    "\n",
    "Q: What are the top 3 performing companies (YTD)?\n",
    "\n",
    "### Format instruction\n",
    "List the top 5 companies by allocation and include their ticker, country, and YTD performance. Format as a markdown table.\n",
    "\n",
    "### Chain-of-thought reasoning\n",
    "Which 3 companies have the strongest combination of low P/E, high dividend yield, and strong YTD performance? Show your reasoning.\n",
    "\n",
    "### Scoring or Classification\n",
    "For each company, classify whether its business is primarily domestic or international, based on its business description"
   ]
  },
  {
   "cell_type": "code",
   "execution_count": 83,
   "id": "52f2240e-4227-49d1-8f04-99dc4a0194b1",
   "metadata": {},
   "outputs": [
    {
     "name": "stdout",
     "output_type": "stream",
     "text": [
      "\n",
      "\n",
      "Format instruction example:\n",
      "Sure, here are the top 5 companies by allocation:\n",
      "\n",
      "| Name                                                     |   Allocation | Country      |   YTD_Performance |\n",
      "|:---------------------------------------------------------|-------------:|:-------------|------------------:|\n",
      "| Taiwan Semiconductor Manufacturing Co., Ltd.             |   0.269198   | Taiwan       |         0.153872  |\n",
      "| Tencent Holdings Ltd                                     |   0.120909   | China        |         0.359747  |\n",
      "| Alibaba Group Holding Limited                            |   0.0712461  | China        |         0.425033  |\n",
      "| Samsung Electronics Co., Ltd.                            |   0.0685511  | Korea        |         0.384884  |\n",
      "| HDFC Bank Limited                                        |   0.0426797  | India        |         0.106574  |\n",
      "\n",
      "\n",
      "Chain-of-thought example:\n",
      "The three companies with the strongest combination of low Price to Earnings (P/E), high Dividend Yield, and strong Year-to-Date (YTD) Performance are:\n",
      "\n",
      "1. China Construction Bank Corporation Class H: This company has the lowest P/E ratio of 4.49, indicating that it is less expensive relative to its earnings. It also has a high dividend yield of 6.77, which suggests that it returns a substantial portion of its earnings to shareholders. The YTD performance is 0.277396, which is quite strong compared to many other companies in the list. \n",
      "\n",
      "2. Industrial and Commercial Bank of China Limited Class H: This company also has a low P/E ratio of 4.7, and a high dividend yield of 6.44. Its YTD performance is 0.22425, which is also strong.\n",
      "\n",
      "3. Bank of China Limited Class H: This company has a P/E ratio of 4.63 and a high dividend yield of 6.53. Its YTD performance is 0.1943, which is relatively strong.\n",
      "\n",
      "These three companies stand out as they have a combination of low P/E ratios (which indicates they are less expensive relative to their earnings), high dividend yields (which suggests they return a substantial portion of their earnings to shareholders), and strong YTD performance (which indicates they have been performing well this year).\n",
      "\n",
      "\n",
      "Classification example:\n",
      "1. Taiwan Semiconductor Manufacturing Co., Ltd. - International: The company engages in the manufacture and sale of integrated circuits and wafer semiconductor devices. Its chips are used in a wide range of products globally, including personal computers, information applications, communications systems, and automotive and industrial equipment.\n",
      "\n",
      "2. Tencent Holdings Ltd - International: Tencent provides value-added services, online advertising services, and fintech and business services. It operates in multiple segments, including online and mobile games, communication and social, digital content, and fintech and business services, all of which have a global reach.\n",
      "\n",
      "3. Alibaba Group Holding Limited - International: Alibaba provides technology infrastructure and marketing reach. It operates through various business segments, including China Commerce, International Commerce, Local Consumer Services, Cainiao, Cloud, Digital Media and Entertainment, and Innovation Initiatives and Others segments. Although it has a strong presence in China, its operations extend internationally.\n",
      "\n",
      "4. Samsung Electronics Co., Ltd. - International: Samsung engages in the manufacturing and selling of electronics and computer peripherals. It offers products such as televisions, monitors, refrigerators, which are sold globally. \n",
      "\n",
      "5. HDFC Bank Limited - Domestic: HDFC Bank engages in the provision of banking and financial services including commercial banking and treasury operations primarily in India. Its segments include Treasury, Retail Banking, Wholesale Banking, and Other Banking Business, all of which are primarily focused on the Indian market.\n"
     ]
    }
   ],
   "source": [
    "example_question_4 = \"List the top 5 companies by allocation and include their country, and YTD performance. Format as a markdown table.\"\n",
    "example_question_5 = \"Which 3 companies have the strongest combination of low P/E, high dividend yield, and strong YTD performance? Show your reasoning.\"\n",
    "example_question_6 = \"For each company, classify whether its business is primarily domestic or international, based on its business description\"\n",
    "\n",
    "print(\"\\n\\nFormat instruction example:\")\n",
    "print(ask_fininsights(df_perf, example_question_4, role))\n",
    "\n",
    "print(\"\\n\\nChain-of-thought example:\")\n",
    "print(ask_fininsights(df_perf_fundamentals, example_question_5, role))\n",
    "\n",
    "print(\"\\n\\nClassification example:\")\n",
    "print(ask_fininsights(df_business_desc.head(5), example_question_6, role))"
   ]
  },
  {
   "cell_type": "markdown",
   "id": "0e06a8f9-eb9a-461e-b048-c25a045f1302",
   "metadata": {},
   "source": [
    "# Conclusion\n",
    "\n",
    "This notebook explored using OpenAI's API to generate natural language insights from portfolio data. I tested the approach on a range of questions - including sector allocations, top performers, and company similarity based on business descriptions. I also experimented with different prompting styles—including zero-shot, role prompting, few-shot examples, formatting instructions, and reasoning-based queries—to evaluate how these affect the quality and reliability of the outputs.\n",
    "\n",
    "The model was generally able to extract and summarise useful information, particularly for questions involving rankings or comparisons (e.g. top performers). It handled business descriptions quite well when asked about company similarities. However, the accuracy of numerical breakdowns (like allocation totals) was mixed, and explanations were often generic or shallow.\n",
    "\n",
    "One key limitation is that the model only sees a subset of the data due to token limits. This means answers may miss context or appear biased towards the first few rows. It's also worth noting that the model isn’t accessing real-time news or external information - it's only working off the data I provided.\n",
    "\n",
    "That said, it shows promise as a lightweight assistant for interpreting structured data. Future iterations could include pre-processed summaries (e.g. sector totals), embedding-based similarity rather than text matching, and integration with a wider data pipeline (e.g. newsflow, fundamentals, macro data)."
   ]
  },
  {
   "cell_type": "code",
   "execution_count": null,
   "id": "f2f9b93d-4928-445d-8687-b8fa53e3d854",
   "metadata": {},
   "outputs": [],
   "source": []
  }
 ],
 "metadata": {
  "kernelspec": {
   "display_name": "Python 3 (ipykernel)",
   "language": "python",
   "name": "python3"
  },
  "language_info": {
   "codemirror_mode": {
    "name": "ipython",
    "version": 3
   },
   "file_extension": ".py",
   "mimetype": "text/x-python",
   "name": "python",
   "nbconvert_exporter": "python",
   "pygments_lexer": "ipython3",
   "version": "3.9.13"
  }
 },
 "nbformat": 4,
 "nbformat_minor": 5
}
