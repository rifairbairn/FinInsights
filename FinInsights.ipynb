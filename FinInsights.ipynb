{
 "cells": [
  {
   "cell_type": "markdown",
   "id": "a311dea7-c397-4595-8c8c-4b0cb080967b",
   "metadata": {},
   "source": [
    "# FinInsights: LLM-Powered Financial Assistant (Demo)\n",
    "\n",
    "This notebook demonstrates a simple LLM-powered assistant that can answer natural language queries about financial data such as portfolio allocations, sector performance, or company fundamentals.\n",
    "\n",
    "We use the OpenAI API to power a conversational assistant that can:\n",
    "- Interpret structured data (CSV-based financial or portfolio data)\n",
    "- Generate textual summaries\n",
    "- Provide sector insights from plain English queries\n",
    "\n",
    "This is a simple prototype version designed for demonstration in a single notebook."
   ]
  },
  {
   "cell_type": "markdown",
   "id": "4d0d9fb7-5d7b-4459-aefc-693ee01bdec8",
   "metadata": {},
   "source": [
    "### Setup & Data Load"
   ]
  },
  {
   "cell_type": "code",
   "execution_count": 66,
   "id": "91f299ab-8dd4-4547-8dbd-d722428cc56f",
   "metadata": {},
   "outputs": [
    {
     "name": "stdout",
     "output_type": "stream",
     "text": [
      "    Symbol                                          Name  Allocation  \\\n",
      "0  6889106  Taiwan Semiconductor Manufacturing Co., Ltd.    0.269198   \n",
      "1  BMMV2K8                          Tencent Holdings Ltd    0.120909   \n",
      "2  BK6YZP5                 Alibaba Group Holding Limited    0.071246   \n",
      "3  6771720                 Samsung Electronics Co., Ltd.    0.068551   \n",
      "4  BK1N461                             HDFC Bank Limited    0.042680   \n",
      "\n",
      "   Adjusted_Market_Value  Dividend_Yield  Price_to_Earnings  Debt_to_Equity  \\\n",
      "0                 957463            1.30              26.87           24.49   \n",
      "1                 451376            0.82              21.09           36.78   \n",
      "2                 253403            1.18              16.97           24.57   \n",
      "3                 243820            2.71              11.27            4.94   \n",
      "4                 130462            1.10              19.48          129.46   \n",
      "\n",
      "  Country                  Sector                                   Industry  \\\n",
      "0  Taiwan  Information Technology   Semiconductors & Semiconductor Equipment   \n",
      "1   China  Communication Services               Interactive Media & Services   \n",
      "2   China  Consumer Discretionary                           Broadline Retail   \n",
      "3   Korea  Information Technology  Technology Hardware Storage & Peripherals   \n",
      "4   India              Financials                                      Banks   \n",
      "\n",
      "   YTD_Performance                               Business_Description  \n",
      "0         0.153872  Taiwan Semiconductor Manufacturing Co., Ltd. e...  \n",
      "1         0.359747  Tencent Holdings Ltd. provides value-added ser...  \n",
      "2         0.425033  Alibaba Group Holding Ltd. engages in providin...  \n",
      "3         0.384884  Samsung Electronics Co., Ltd. engages in the m...  \n",
      "4         0.106574  HDFC Bank Ltd. engages in the provision of ban...  \n",
      "(30, 12)\n"
     ]
    }
   ],
   "source": [
    "import os\n",
    "from openai import OpenAI\n",
    "from dotenv import load_dotenv\n",
    "import requests\n",
    "import httpx\n",
    "\n",
    "# Load API key and proxy from .env\n",
    "load_dotenv()\n",
    "api_key = os.getenv(\"OPENAI_API_KEY\")\n",
    "http_proxy = os.getenv(\"HTTP_PROXY\")\n",
    "https_proxy = os.getenv(\"HTTPS_PROXY\")\n",
    "\n",
    "proxies = {\n",
    "    \"http\": http_proxy,\n",
    "    \"https\": https_proxy\n",
    "}\n",
    "\n",
    "# Load sample portfolio data\n",
    "df = pd.read_csv(\"sample_portfolio_30.csv\", encoding=\"utf-8\", encoding_errors=\"ignore\")\n",
    "print(df.head())\n",
    "print(df.shape)"
   ]
  },
  {
   "cell_type": "markdown",
   "id": "dd18f869-abff-485c-8511-36932961f0b5",
   "metadata": {},
   "source": [
    "### Create Smaller Custom Dataframes"
   ]
  },
  {
   "cell_type": "code",
   "execution_count": 67,
   "id": "ab53bfee-cfae-48d2-9248-a38b92c224f4",
   "metadata": {},
   "outputs": [],
   "source": [
    "# Truncate Business_Description to 40 words\n",
    "df[\"Short_Description\"] = df[\"Business_Description\"].apply(lambda x: \" \".join(str(x).split()[:40]) + \"...\")\n",
    "\n",
    "df_allocations = df[[\"Name\", \"Allocation\", \"Sector\"]]\n",
    "df_perf = df[[\"Name\", \"Allocation\", \"Country\", \"Sector\", \"YTD_Performance\"]]\n",
    "df_perf_fundamentals = df[[\"Name\", \"Allocation\", \"Country\", \"Sector\", \"YTD_Performance\", \"Adjusted_Market_Value\", \"Dividend_Yield\", \"Price_to_Earnings\", \"Debt_to_Equity\"]]\n",
    "df_business_desc = df[[\"Name\", \"Country\", \"Sector\", \"Short_Description\"]]"
   ]
  },
  {
   "cell_type": "markdown",
   "id": "1003854e-c15a-42d7-9e0e-4c6d2fe3cff0",
   "metadata": {},
   "source": [
    "### LLM Prompt Function"
   ]
  },
  {
   "cell_type": "code",
   "execution_count": 68,
   "id": "27e2f496-a445-4cd1-bf48-0e9341811a43",
   "metadata": {},
   "outputs": [],
   "source": [
    "def ask_fininsights(data: pd.DataFrame, question: str, model=\"gpt-4\"):\n",
    "    \"\"\"Send natural language question and tabular data to OpenAI via Chat API\"\"\"\n",
    "\n",
    "    # Convert the entire DataFrame to markdown (table format) for inclusion in the prompt\n",
    "    # Consider limiting rows (e.g., with data.head(10)) to avoid token limits\n",
    "    data_sample = data.to_markdown(index=False)\n",
    "\n",
    "    # Build the prompt to send to the model, including dataset and natural language question\n",
    "    prompt = f\"\"\"\n",
    "You are a financial analyst assistant. Given the following dataset:\n",
    "\n",
    "{data_sample}\n",
    "\n",
    "Answer this question clearly and concisely:\n",
    "{question}\n",
    "\"\"\"\n",
    "\n",
    "    # Set headers for OpenAI API request, including authorization\n",
    "    headers = {\n",
    "        \"Authorization\": f\"Bearer {api_key}\",\n",
    "        \"Content-Type\": \"application/json\"\n",
    "    }\n",
    "\n",
    "    # Construct the payload to send to OpenAI\n",
    "    payload = {\n",
    "        \"model\": model,\n",
    "        \"messages\": [\n",
    "            {\"role\": \"system\", \"content\": \"You are a helpful assistant specialised in portfolio analysis.\"},\n",
    "            {\"role\": \"user\", \"content\": prompt}\n",
    "        ],\n",
    "        \"temperature\": 0.4,   # Lower temperature for more deterministic output\n",
    "        \"max_tokens\": 500     # Limit output length to avoid excess token usage\n",
    "    }\n",
    "\n",
    "    try:\n",
    "        # Make the POST request to OpenAI API with optional proxy and timeout\n",
    "        response = requests.post(\n",
    "            \"https://api.openai.com/v1/chat/completions\",\n",
    "            headers=headers,\n",
    "            json=payload,\n",
    "            proxies=proxies,\n",
    "            timeout=60\n",
    "        )\n",
    "\n",
    "        # If successful, return the LLM’s generated message content\n",
    "        if response.status_code == 200:\n",
    "            return response.json()[\"choices\"][0][\"message\"][\"content\"]\n",
    "        else:\n",
    "            # Print the error message if API returns non-200 status\n",
    "            print(f\"OpenAI API Error: {response.status_code} - {response.text}\")\n",
    "            return None\n",
    "\n",
    "    except requests.exceptions.RequestException as e:\n",
    "        # Handle timeout, connection, or other request-related errors\n",
    "        print(f\"Request error: {e}\")\n",
    "        return None"
   ]
  },
  {
   "cell_type": "markdown",
   "id": "76eda06a-745b-4e2d-8fea-991cc8fbd511",
   "metadata": {},
   "source": [
    "### Example Prompts"
   ]
  },
  {
   "cell_type": "code",
   "execution_count": 69,
   "id": "9f759fb6-0a8d-46de-a984-6119c0aa40a8",
   "metadata": {},
   "outputs": [],
   "source": [
    "example_question_1 = \"Which sectors have the highest allocations in the portfolio? Provide allocations.\"\n",
    "example_question_2 = \"What are top 3 performing companies (with their YTD Performance)?\"\n",
    "example_question_3 = \"What are the 3 most similar companies to Alibaba based on business description?\"\n",
    "example_question_4 = \"Are there any commonalities among strong performing companies?\""
   ]
  },
  {
   "cell_type": "markdown",
   "id": "a43999d1-c234-4722-b8fa-e39cb9961f89",
   "metadata": {},
   "source": [
    "### Example 1: Sector Allocations\n",
    "**Prompt:** \"Which sectors have the highest allocations in the portfolio? Provide allocations.\"  "
   ]
  },
  {
   "cell_type": "code",
   "execution_count": 70,
   "id": "8a751810-453b-445c-a50f-9bd7af5bd15c",
   "metadata": {},
   "outputs": [
    {
     "name": "stdout",
     "output_type": "stream",
     "text": [
      "\n",
      "\n",
      "Example 1:\n",
      "The sectors with the highest allocations in the portfolio are:\n",
      "\n",
      "1. Information Technology: 0.269198 (Taiwan Semiconductor Manufacturing Co., Ltd.) + 0.0685511 (Samsung Electronics Co., Ltd.) + 0.0325908 (Xiaomi Corporation Class B) + 0.0302744 (SK hynix Inc.) + 0.0209634 (Hon Hai Precision Industry Co., Ltd.) + 0.0196372 (MediaTek Inc) + 0.0160924 (Infosys Limited) + 0.010404 (Delta Electronics, Inc.) = 0.4677111\n",
      "\n",
      "2. Financials: 0.0426797 (HDFC Bank Limited) + 0.0277273 (China Construction Bank Corporation Class H) + 0.0250624 (ICICI Bank Limited) + 0.0140366 (Industrial and Commercial Bank of China Limited Class H) + 0.0139188 (Al Rajhi Bank) + 0.0129511 (Ping An Insurance (Group) Company of China, Ltd. Class H) + 0.0115572 (Bank of China Limited Class H) + 0.0110032 (Nu Holdings Ltd. Class A) = 0.1589363\n",
      "\n",
      "3. Consumer Discretionary: 0.0712461 (Alibaba Group Holding Limited) + 0.0221492 (PDD Holdings Inc. Sponsored ADR Class A) + 0.0216779 (Meituan Class B) + 0.0152249 (BYD Company Limited Class H) + 0.0144327 (Naspers Limited Class N) + 0.0109355 (Trip.com Group Ltd.) + 0.0107349 (JD.com, Inc. Class A) + 0.00958923 (Mahindra & Mahindra Ltd.) = 0.1769905\n",
      "\n",
      "Please note that these are the total allocations for each sector by adding up the allocations of the individual companies within each sector.\n"
     ]
    }
   ],
   "source": [
    "print(\"\\n\\nExample 1:\")\n",
    "print(ask_fininsights(df_allocations, example_question_1))"
   ]
  },
  {
   "cell_type": "markdown",
   "id": "e28a43ac-d85c-489b-9595-4224475e773e",
   "metadata": {},
   "source": [
    "### Example 2: Top Performing Companies  \n",
    "**Prompt:** \"What are top 3 performing companies (with their YTD Performance)?\""
   ]
  },
  {
   "cell_type": "code",
   "execution_count": 71,
   "id": "28e13510-d0db-4137-ac85-c57d4cd9e0f7",
   "metadata": {},
   "outputs": [
    {
     "name": "stdout",
     "output_type": "stream",
     "text": [
      "\n",
      "\n",
      "Example 2:\n",
      "The top three performing companies based on the Year-to-Date (YTD) performance are:\n",
      "\n",
      "1. Delta Electronics, Inc. with a YTD Performance of 0.595656\n",
      "2. SK hynix Inc. with a YTD Performance of 0.587134\n",
      "3. Xiaomi Corporation Class B with a YTD Performance of 0.548867\n"
     ]
    }
   ],
   "source": [
    "print(\"\\n\\nExample 2:\")\n",
    "print(ask_fininsights(df_perf, example_question_2))"
   ]
  },
  {
   "cell_type": "markdown",
   "id": "0197554e-6549-400e-a101-20735b7d496f",
   "metadata": {},
   "source": [
    "### Example 3: Similar Businesses\n",
    "**Prompt:** \"What are the 3 most similar companies to Alibaba based on business description?\""
   ]
  },
  {
   "cell_type": "code",
   "execution_count": 72,
   "id": "db15ef2f-5f7c-4408-bd20-b43bc141b0a3",
   "metadata": {},
   "outputs": [
    {
     "name": "stdout",
     "output_type": "stream",
     "text": [
      "\n",
      "\n",
      "Example 3:\n",
      "Based on the business description, the three most similar companies to Alibaba Group Holding Limited are:\n",
      "\n",
      "1. Tencent Holdings Ltd - Similar to Alibaba, Tencent provides a range of online and mobile services, including fintech and business services. Both companies are heavily involved in the technology sector and are based in China.\n",
      "\n",
      "2. JD.com, Inc. Class A - JD.com is also a technology-driven E-commerce company, similar to Alibaba. Both companies are involved in the sale of various products and services online, and are based in China.\n",
      "\n",
      "3. Meituan Class B - Meituan, like Alibaba, provides a technology platform that connects consumers and merchants. It operates in similar segments such as food delivery, in-store, hotel, and travel. This company is also based in China.\n"
     ]
    }
   ],
   "source": [
    "print(\"\\n\\nExample 3:\")\n",
    "print(ask_fininsights(df_business_desc, example_question_3)) "
   ]
  },
  {
   "cell_type": "markdown",
   "id": "be2bf0cc-8ade-4aa2-b01c-bd7489ebbda8",
   "metadata": {},
   "source": [
    "### Example 4: Patterns Among Top Performers\n",
    "**Prompt:** \"Are there any commonalities among strong performing companies?\""
   ]
  },
  {
   "cell_type": "code",
   "execution_count": 73,
   "id": "52f2240e-4227-49d1-8f04-99dc4a0194b1",
   "metadata": {},
   "outputs": [
    {
     "name": "stdout",
     "output_type": "stream",
     "text": [
      "\n",
      "\n",
      "Example 4:\n",
      "Based on the dataset provided, strong performing companies can be identified by their Year-to-Date (YTD) Performance. Here are some commonalities observed among these companies:\n",
      "\n",
      "1. Sector: Most of the strong performing companies (with high YTD Performance) are from the Information Technology and Consumer Discretionary sectors. Companies like Taiwan Semiconductor Manufacturing Co., Ltd., Tencent Holdings Ltd, Alibaba Group Holding Limited, and Samsung Electronics Co., Ltd. are all from these sectors.\n",
      "\n",
      "2. Country: A significant number of strong performing companies are based in China and Taiwan. This includes companies like Taiwan Semiconductor Manufacturing Co., Ltd., Tencent Holdings Ltd, Alibaba Group Holding Limited, and Xiaomi Corporation Class B.\n",
      "\n",
      "3. Debt-to-Equity Ratio: There doesn't seem to be a clear pattern in the Debt-to-Equity ratio among the strong performing companies. Some companies like Taiwan Semiconductor Manufacturing Co., Ltd. and Samsung Electronics Co., Ltd. have relatively low Debt-to-Equity ratios, while others like HDFC Bank Limited and China Construction Bank Corporation Class H have high ratios.\n",
      "\n",
      "4. Dividend Yield: Most of the strong performing companies have a relatively low dividend yield. This could be because these companies are reinvesting their profits back into the business for growth, rather than paying them out as dividends.\n",
      "\n",
      "5. Price-to-Earnings Ratio: The Price-to-Earnings (P/E) ratios vary among the strong performing companies. Some companies like Samsung Electronics Co., Ltd. and SK hynix Inc. have low P/E ratios, while others like Xiaomi Corporation Class B and Taiwan Semiconductor Manufacturing Co., Ltd. have high P/E ratios.\n",
      "\n",
      "Please note that these are just observations based on the provided dataset and may not necessarily indicate a causal relationship. Other factors not included in the dataset could also be influencing the performance of these companies.\n"
     ]
    }
   ],
   "source": [
    "print(\"\\n\\nExample 4:\")\n",
    "print(ask_fininsights(df_perf_fundamentals, example_question_4)) "
   ]
  },
  {
   "cell_type": "markdown",
   "id": "0e06a8f9-eb9a-461e-b048-c25a045f1302",
   "metadata": {},
   "source": [
    "# Conclusion\n",
    "\n",
    "This notebook explored using OpenAI's API to generate natural language insights from portfolio data. I tested the approach on a range of questions - including sector allocations, top performers, and company similarity based on business descriptions.\n",
    "\n",
    "The model was generally able to extract and summarise useful information, particularly for questions involving rankings or comparisons (e.g. top performers). It handled business descriptions quite well when asked about company similarities. However, the accuracy of numerical breakdowns (like allocation totals) was mixed, and explanations were often generic or shallow.\n",
    "\n",
    "One key limitation is that the model only sees a subset of the data due to token limits. This means answers may miss context or appear biased towards the first few rows. It's also worth noting that the model isn’t accessing real-time news or external information - it's only working off the data I provided.\n",
    "\n",
    "That said, it shows promise as a lightweight assistant for interpreting structured data. Future iterations could include pre-processed summaries (e.g. sector totals), embedding-based similarity rather than text matching, and integration with a wider data pipeline (e.g. newsflow, fundamentals, macro data)."
   ]
  },
  {
   "cell_type": "code",
   "execution_count": null,
   "id": "f2f9b93d-4928-445d-8687-b8fa53e3d854",
   "metadata": {},
   "outputs": [],
   "source": []
  }
 ],
 "metadata": {
  "kernelspec": {
   "display_name": "Python 3 (ipykernel)",
   "language": "python",
   "name": "python3"
  },
  "language_info": {
   "codemirror_mode": {
    "name": "ipython",
    "version": 3
   },
   "file_extension": ".py",
   "mimetype": "text/x-python",
   "name": "python",
   "nbconvert_exporter": "python",
   "pygments_lexer": "ipython3",
   "version": "3.9.13"
  }
 },
 "nbformat": 4,
 "nbformat_minor": 5
}
